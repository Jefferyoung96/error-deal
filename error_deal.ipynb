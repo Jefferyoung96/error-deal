{
 "cells": [
  {
   "cell_type": "markdown",
   "metadata": {
    "cellType": "markdown",
    "uuid": "2d03407d-bbda-4c11-a370-7ed7c588d63a"
   },
   "source": [
    "## 常见的异常处理语句"
   ]
  },
  {
   "cell_type": "markdown",
   "metadata": {
    "cellType": "markdown",
    "uuid": "2a0120ae-a316-4706-94f4-61f22f5e160c"
   },
   "source": [
    "### 1.try-except语句"
   ]
  },
  {
   "cell_type": "markdown",
   "metadata": {
    "cellType": "markdown",
    "uuid": "62ed5a42-23e4-476d-a387-adaefbb4bf7a"
   },
   "source": [
    "    \n",
    "    try:\n",
    "        检测范围\n",
    "    except Exception[as reason]:\n",
    "        出现异常后的处理代码"
   ]
  },
  {
   "cell_type": "markdown",
   "metadata": {
    "cellType": "markdown",
    "uuid": "94564d8a-a503-4ce5-946b-c68cb12aed8b"
   },
   "source": [
    "[例子]"
   ]
  },
  {
   "cell_type": "code",
   "execution_count": 3,
   "metadata": {
    "cellType": "code",
    "uuid": "f5c8e942-7347-40b1-a59f-92d39dbad638"
   },
   "outputs": [
    {
     "name": "stdout",
     "output_type": "stream",
     "text": [
      "打开文件出错\n"
     ]
    }
   ],
   "source": [
    "try:\n",
    "    f = open('text.txt')\n",
    "    print(f.read())\n",
    "    f.close()\n",
    "except OSError:\n",
    "    print('打开文件出错')"
   ]
  },
  {
   "cell_type": "markdown",
   "metadata": {
    "cellType": "markdown",
    "uuid": "a55628c1-e6e0-4b49-88f1-e286f2c12a81"
   },
   "source": [
    "[例子]"
   ]
  },
  {
   "cell_type": "code",
   "execution_count": 4,
   "metadata": {
    "uuid": "c43c7911-9c7b-4af9-8c54-142febd85508"
   },
   "outputs": [
    {
     "name": "stdout",
     "output_type": "stream",
     "text": [
      "打开文件出错\n",
      "原因是：[Errno 2] No such file or directory: 'test.txt'\n"
     ]
    }
   ],
   "source": [
    "try:\n",
    "    f = open('test.txt')\n",
    "    print(f.read())\n",
    "    f.close()\n",
    "except OSError as error:\n",
    "    print('打开文件出错\\n原因是：' + str(error))"
   ]
  },
  {
   "cell_type": "markdown",
   "metadata": {
    "cellType": "markdown",
    "uuid": "d19421b9-caed-467b-8ae4-d6b865a78787"
   },
   "source": [
    "一个`try`语句可以包含多个`except`子句，分别处理不同异常，但最多只有一个分支被执行"
   ]
  },
  {
   "cell_type": "code",
   "execution_count": 5,
   "metadata": {
    "uuid": "c3fec4ab-447e-42f0-960c-8d090d3adf75"
   },
   "outputs": [
    {
     "name": "stdout",
     "output_type": "stream",
     "text": [
      "数值出错\n",
      "原因是：invalid literal for int() with base 10: 'abc'\n"
     ]
    }
   ],
   "source": [
    "try:\n",
    "    int(\"abc\")\n",
    "    s = 1 + '1'\n",
    "    f = open('test.txt')\n",
    "    print(f.read())\n",
    "    f.close()\n",
    "except OSError as error:\n",
    "    print('打开文件出错\\n原因是：' + str(error))\n",
    "except TypeError as error:\n",
    "    print('类型出错\\n原因是：' + str(error))\n",
    "except ValueError as error:\n",
    "    print('数值出错\\n原因是：' + str(error))"
   ]
  },
  {
   "cell_type": "code",
   "execution_count": 6,
   "metadata": {
    "uuid": "ed2bee4e-1d95-4fd2-87d9-a2b9ae80bc7f"
   },
   "outputs": [
    {
     "name": "stdout",
     "output_type": "stream",
     "text": [
      "查询错误\n"
     ]
    }
   ],
   "source": [
    "dict1 = {'a': 1, 'b': 2, 'v': 22}\n",
    "try:\n",
    "    x = dict1['y']\n",
    "except LookupError:\n",
    "    print('查询错误')\n",
    "except KeyError:\n",
    "    print('键错误')\n",
    "else:\n",
    "    print(x)\n"
   ]
  },
  {
   "cell_type": "markdown",
   "metadata": {
    "cellType": "markdown",
    "uuid": "bccd161f-654e-4407-81a9-82c4e6750f03"
   },
   "source": [
    "```try-except-else```尝试查询不在```dict```中的键值对从而引发异常，准确来说属于```KeyError```\n",
    "但是由于```KeyError```是```LookupError```的子类，且将```LookupError```置于前所以优先执行该代码块，要从最具针对性的异常到最通用的异常"
   ]
  },
  {
   "cell_type": "code",
   "execution_count": 7,
   "metadata": {
    "uuid": "d9c7cf1d-0648-413a-99f8-85ff7cd6c63b"
   },
   "outputs": [
    {
     "name": "stdout",
     "output_type": "stream",
     "text": [
      "键错误\n"
     ]
    }
   ],
   "source": [
    "dict1 = {'a': 1, 'b': 2, 'v': 22}\n",
    "try:\n",
    "    x = dict1['y']\n",
    "except KeyError:\n",
    "    print('键错误')\n",
    "except LookupError:\n",
    "    print('查询错误')\n",
    "else:\n",
    "    print(x)"
   ]
  },
  {
   "cell_type": "markdown",
   "metadata": {
    "cellType": "markdown",
    "uuid": "cdade7ff-c39e-4882-b9b5-9f245acacbee"
   },
   "source": [
    "【例子】一个 except 子句可以同时处理多个异常，这些异常将被放在一个括号里成为一个元组"
   ]
  },
  {
   "cell_type": "code",
   "execution_count": 43,
   "metadata": {
    "uuid": "270bf033-b2f3-4ec9-b871-fe5f068b2467"
   },
   "outputs": [
    {
     "name": "stdout",
     "output_type": "stream",
     "text": [
      "出错了！\n",
      "原因是：unsupported operand type(s) for +: 'int' and 'str'\n"
     ]
    }
   ],
   "source": [
    "try:\n",
    "    s = 1 + '1'\n",
    "    int(\"abc\")\n",
    "    f = open('test.txt')\n",
    "    print(f.read())\n",
    "    f.close()\n",
    "except (OSError, TypeError, ValueError) as error:\n",
    "    print('出错了！\\n原因是：' + str(error))"
   ]
  },
  {
   "cell_type": "markdown",
   "metadata": {
    "cellType": "markdown",
    "uuid": "49bc8a73-4f5b-4d0d-b4f6-5286dbb8d9b6"
   },
   "source": [
    "### 2.try - except - finally 语句"
   ]
  },
  {
   "cell_type": "markdown",
   "metadata": {
    "cellType": "markdown",
    "uuid": "9708d867-9f11-4488-ac44-3c334c673b05"
   },
   "source": [
    "```\n",
    "try:\n",
    "    检测范围\n",
    "except Exception[as reason]:\n",
    "    出现异常后的处理代码\n",
    "finally:\n",
    "    无论如何都会被执行的代码\n",
    "```"
   ]
  },
  {
   "cell_type": "markdown",
   "metadata": {
    "cellType": "markdown",
    "uuid": "33d8fb91-9308-4236-afaa-8dcab5d6bf8f"
   },
   "source": [
    "不管```try```子句里面有没有发生异常，```finally```子句都会执行\n",
    "如果一个异常在```try```子句里被抛出，而又没有任何的```except```把它截住，那么这个异常会在```finally```子句执行后被抛出。"
   ]
  },
  {
   "cell_type": "markdown",
   "metadata": {
    "cellType": "markdown",
    "uuid": "55250520-541f-4132-acff-ef089e512654"
   },
   "source": [
    "【例子】"
   ]
  },
  {
   "cell_type": "code",
   "execution_count": 44,
   "metadata": {
    "uuid": "43e570d3-e175-446d-8485-503b198b7449"
   },
   "outputs": [
    {
     "name": "stdout",
     "output_type": "stream",
     "text": [
      "result is 2.0\n",
      "executing finally clause\n",
      "division by zero!\n",
      "executing finally clause\n",
      "executing finally clause\n"
     ]
    },
    {
     "ename": "TypeError",
     "evalue": "unsupported operand type(s) for /: 'str' and 'str'",
     "output_type": "error",
     "traceback": [
      "\u001b[0;31m---------------------------------------------------------------------------\u001b[0m",
      "\u001b[0;31mTypeError\u001b[0m                                 Traceback (most recent call last)",
      "\u001b[0;32m<ipython-input-44-47636bdfe21d>\u001b[0m in \u001b[0;36m<module>\u001b[0;34m\u001b[0m\n\u001b[1;32m     14\u001b[0m \u001b[0;31m# division by zero!\u001b[0m\u001b[0;34m\u001b[0m\u001b[0;34m\u001b[0m\u001b[0m\n\u001b[1;32m     15\u001b[0m \u001b[0;31m# executing finally clause\u001b[0m\u001b[0;34m\u001b[0m\u001b[0;34m\u001b[0m\u001b[0m\n\u001b[0;32m---> 16\u001b[0;31m \u001b[0mdivide\u001b[0m\u001b[0;34m(\u001b[0m\u001b[0;34m\"2\"\u001b[0m\u001b[0;34m,\u001b[0m \u001b[0;34m\"1\"\u001b[0m\u001b[0;34m)\u001b[0m\u001b[0;34m\u001b[0m\u001b[0m\n\u001b[0m\u001b[1;32m     17\u001b[0m \u001b[0;31m# executing finally clause\u001b[0m\u001b[0;34m\u001b[0m\u001b[0;34m\u001b[0m\u001b[0m\n\u001b[1;32m     18\u001b[0m \u001b[0;31m# TypeError: unsupported operand type(s) for /: 'str' and 'str'\u001b[0m\u001b[0;34m\u001b[0m\u001b[0;34m\u001b[0m\u001b[0m\n",
      "\u001b[0;32m<ipython-input-44-47636bdfe21d>\u001b[0m in \u001b[0;36mdivide\u001b[0;34m(x, y)\u001b[0m\n\u001b[1;32m      1\u001b[0m \u001b[0;32mdef\u001b[0m \u001b[0mdivide\u001b[0m\u001b[0;34m(\u001b[0m\u001b[0mx\u001b[0m\u001b[0;34m,\u001b[0m \u001b[0my\u001b[0m\u001b[0;34m)\u001b[0m\u001b[0;34m:\u001b[0m\u001b[0;34m\u001b[0m\u001b[0m\n\u001b[1;32m      2\u001b[0m     \u001b[0;32mtry\u001b[0m\u001b[0;34m:\u001b[0m\u001b[0;34m\u001b[0m\u001b[0m\n\u001b[0;32m----> 3\u001b[0;31m         \u001b[0mresult\u001b[0m \u001b[0;34m=\u001b[0m \u001b[0mx\u001b[0m \u001b[0;34m/\u001b[0m \u001b[0my\u001b[0m\u001b[0;34m\u001b[0m\u001b[0m\n\u001b[0m\u001b[1;32m      4\u001b[0m         \u001b[0mprint\u001b[0m\u001b[0;34m(\u001b[0m\u001b[0;34m\"result is\"\u001b[0m\u001b[0;34m,\u001b[0m \u001b[0mresult\u001b[0m\u001b[0;34m)\u001b[0m\u001b[0;34m\u001b[0m\u001b[0m\n\u001b[1;32m      5\u001b[0m     \u001b[0;32mexcept\u001b[0m \u001b[0mZeroDivisionError\u001b[0m\u001b[0;34m:\u001b[0m\u001b[0;34m\u001b[0m\u001b[0m\n",
      "\u001b[0;31mTypeError\u001b[0m: unsupported operand type(s) for /: 'str' and 'str'"
     ]
    }
   ],
   "source": [
    "def divide(x, y):\n",
    "    try:\n",
    "        result = x / y\n",
    "        print(\"result is\", result)\n",
    "    except ZeroDivisionError:\n",
    "        print(\"division by zero!\")\n",
    "    finally:\n",
    "        print(\"executing finally clause\")\n",
    "        \n",
    "divide(2, 1)\n",
    "# result is 2.0\n",
    "# executing finally clause\n",
    "divide(2, 0)\n",
    "# division by zero!\n",
    "# executing finally clause\n",
    "divide(\"2\", \"1\")\n",
    "# executing finally clause\n",
    "# TypeError: unsupported operand type(s) for /: 'str' and 'str'"
   ]
  },
  {
   "cell_type": "markdown",
   "metadata": {
    "cellType": "markdown",
    "uuid": "a8308a88-3abd-4fc4-9467-6fa3b052a3af"
   },
   "source": [
    "### 3.try-except-else语句"
   ]
  },
  {
   "cell_type": "markdown",
   "metadata": {
    "cellType": "markdown",
    "uuid": "3f302caf-8d41-4f00-9751-8cecfc889002"
   },
   "source": [
    "如果在```try```子句执行时没有发生异常，Python将执行```else```语句后的语句"
   ]
  },
  {
   "cell_type": "markdown",
   "metadata": {
    "cellType": "markdown",
    "uuid": "d5f19aa4-a506-4b92-8b09-55e3d98e87cb"
   },
   "source": [
    "```\n",
    "try:\n",
    "    检测范围\n",
    "except:\n",
    "    出现异常后的处理代码\n",
    "else：\n",
    "    如果没有异常执行这块代码\n",
    "    ```"
   ]
  },
  {
   "cell_type": "markdown",
   "metadata": {
    "cellType": "markdown",
    "uuid": "2c40589a-dc80-481c-a2c1-94b3a282cc30"
   },
   "source": [
    "使用```except```而不带任何异常类型，这不是一个很好的方式，我们不能通过该程序识别出具体的异常信息，因为它捕获所有的异常"
   ]
  },
  {
   "cell_type": "markdown",
   "metadata": {
    "cellType": "markdown",
    "uuid": "782be9aa-66c7-4ac5-b8d1-775555a3d7cf"
   },
   "source": [
    "```\n",
    "try:\n",
    "    检测范围\n",
    "except(Exception1[, Exception2[,...ExceptionN]]]):\n",
    "   发生以上多个异常中的一个，执行这块代码\n",
    "else:\n",
    "    如果没有异常执行这块代码\n",
    "```"
   ]
  },
  {
   "cell_type": "markdown",
   "metadata": {
    "cellType": "markdown",
    "uuid": "b8b440b3-0b49-4605-a585-8af8625d3035"
   },
   "source": [
    "【例子】"
   ]
  },
  {
   "cell_type": "code",
   "execution_count": 10,
   "metadata": {
    "uuid": "5dd04a25-3678-452b-ae18-84b713e34061"
   },
   "outputs": [
    {
     "ename": "UnicodeEncodeError",
     "evalue": "'ascii' codec can't encode characters in position 0-14: ordinal not in range(128)",
     "output_type": "error",
     "traceback": [
      "\u001b[0;31m---------------------------------------------------------------------------\u001b[0m",
      "\u001b[0;31mUnicodeEncodeError\u001b[0m                        Traceback (most recent call last)",
      "\u001b[0;32m<ipython-input-10-09df074213a9>\u001b[0m in \u001b[0;36m<module>\u001b[0;34m\u001b[0m\n\u001b[1;32m      1\u001b[0m \u001b[0;32mtry\u001b[0m\u001b[0;34m:\u001b[0m\u001b[0;34m\u001b[0m\u001b[0m\n\u001b[1;32m      2\u001b[0m     \u001b[0mfh\u001b[0m \u001b[0;34m=\u001b[0m \u001b[0mopen\u001b[0m\u001b[0;34m(\u001b[0m\u001b[0;34m\"testfile\"\u001b[0m\u001b[0;34m,\u001b[0m \u001b[0;34m\"w\"\u001b[0m\u001b[0;34m)\u001b[0m\u001b[0;34m\u001b[0m\u001b[0m\n\u001b[0;32m----> 3\u001b[0;31m     \u001b[0mfh\u001b[0m\u001b[0;34m.\u001b[0m\u001b[0mwrite\u001b[0m\u001b[0;34m(\u001b[0m\u001b[0;34m\"这是一个测试文件，用于测试异常!!\"\u001b[0m\u001b[0;34m)\u001b[0m\u001b[0;34m\u001b[0m\u001b[0m\n\u001b[0m\u001b[1;32m      4\u001b[0m \u001b[0;32mexcept\u001b[0m \u001b[0mIOError\u001b[0m\u001b[0;34m:\u001b[0m\u001b[0;34m\u001b[0m\u001b[0m\n\u001b[1;32m      5\u001b[0m     \u001b[0mprint\u001b[0m\u001b[0;34m(\u001b[0m\u001b[0;34m\"Error: 没有找到文件或读取文件失败\"\u001b[0m\u001b[0;34m)\u001b[0m\u001b[0;34m\u001b[0m\u001b[0m\n",
      "\u001b[0;31mUnicodeEncodeError\u001b[0m: 'ascii' codec can't encode characters in position 0-14: ordinal not in range(128)"
     ]
    }
   ],
   "source": [
    "try:\n",
    "    fh = open(\"testfile\", \"w\")\n",
    "    fh.write(\"这是一个测试文件，用于测试异常!!\")\n",
    "except IOError:\n",
    "    print(\"Error: 没有找到文件或读取文件失败\")\n",
    "else:\n",
    "    print(\"内容写入文件成功\")\n",
    "    fh.close()"
   ]
  },
  {
   "cell_type": "markdown",
   "metadata": {
    "cellType": "markdown",
    "uuid": "24f45629-5a2c-4e41-bd0c-a11ac8c5e363"
   },
   "source": [
    "注意：```else```语句的存在必须以```except```语句的存在为前提，在没有```except```语句的```try```语句中使用```else```语句，会引发语法错误."
   ]
  },
  {
   "cell_type": "markdown",
   "metadata": {
    "cellType": "markdown",
    "uuid": "ce1bb4fa-3d46-464e-a658-e03205a6a802"
   },
   "source": [
    "### 4.raise语句"
   ]
  },
  {
   "cell_type": "markdown",
   "metadata": {
    "cellType": "markdown",
    "uuid": "f25fd9a2-d9bc-4c51-8091-6543d1604324"
   },
   "source": [
    "【例子】"
   ]
  },
  {
   "cell_type": "markdown",
   "metadata": {
    "cellType": "markdown",
    "uuid": "fdbf6a42-420d-48da-8aee-affb5905bbba"
   },
   "source": [
    "Python 使用```raise```语句抛出一个指定的异常."
   ]
  },
  {
   "cell_type": "code",
   "execution_count": 11,
   "metadata": {
    "uuid": "19d64806-9572-4ce7-b444-def5087f1255"
   },
   "outputs": [
    {
     "name": "stdout",
     "output_type": "stream",
     "text": [
      "An exception flew by!\n"
     ]
    }
   ],
   "source": [
    "try:\n",
    "    raise NameError('HiThere')\n",
    "except NameError:\n",
    "    print('An exception flew by!')"
   ]
  },
  {
   "cell_type": "markdown",
   "metadata": {
    "cellType": "markdown",
    "uuid": "a23b639e-3603-4534-aba4-a22dc133f8d0"
   },
   "source": [
    "## 练习题"
   ]
  },
  {
   "cell_type": "code",
   "execution_count": 37,
   "metadata": {
    "uuid": "b6f0d463-436f-4558-88d4-6716bc25b9c6"
   },
   "outputs": [
    {
     "name": "stdout",
     "output_type": "stream",
     "text": [
      "11\n"
     ]
    }
   ],
   "source": [
    "# 首先产生随机数字\n",
    "import random as rd\n",
    "anwser = rd.randint(0,100)\n",
    "print(anwser)"
   ]
  },
  {
   "cell_type": "code",
   "execution_count": 42,
   "metadata": {
    "uuid": "36f29984-20db-4b1e-8114-774835b47173"
   },
   "outputs": [
    {
     "name": "stdout",
     "output_type": "stream",
     "text": [
      "猜测一个0到100之间的整数\n",
      "第 1次猜，请输入一个整数：\n"
     ]
    },
    {
     "name": "stdin",
     "output_type": "stream",
     "text": [
      " 15\n"
     ]
    },
    {
     "name": "stdout",
     "output_type": "stream",
     "text": [
      "第 2次猜，请输入一个整数：\n"
     ]
    },
    {
     "name": "stdin",
     "output_type": "stream",
     "text": [
      " 11\n"
     ]
    },
    {
     "name": "stdout",
     "output_type": "stream",
     "text": [
      "恭喜你猜到了这个数是11\n"
     ]
    }
   ],
   "source": [
    "# 接收用户输入的数字\n",
    "# 对于输入的数字进行异常判断\n",
    "# 计数器\n",
    "# 循环\n",
    "print(\"猜测一个0到100之间的整数\")\n",
    "temp = 0\n",
    "while(1):\n",
    "    try:\n",
    "        temp += 1\n",
    "        print(\"第 \"+ str(temp) +\"次猜，\"+\"请输入一个整数：\")\n",
    "        guess = int(input())    \n",
    "    except ValueError:\n",
    "        print(\"输入无效\")\n",
    "    if guess == anwser:\n",
    "        print(\"恭喜你猜到了这个数是\" + str(guess))\n",
    "        break\n",
    "        "
   ]
  },
  {
   "cell_type": "markdown",
   "metadata": {
    "cellType": "markdown",
    "uuid": "73dbdd9e-dbca-43d2-b0dc-41f9f0e553a4"
   },
   "source": [
    "## Python 标准异常总结"
   ]
  },
  {
   "cell_type": "markdown",
   "metadata": {
    "cellType": "markdown",
    "uuid": "5ed967ba-8bb6-43f0-ba5e-67e10ddb8b54"
   },
   "source": [
    "BaseException  # 所有异常的基类\n",
    "\n",
    " +-- SystemExit  # 解释器请求退出\n",
    " \n",
    " +-- KeyboardInterrupt  # 用户中断执行(通常是输入^C)\n",
    " \n",
    " +-- GeneratorExit  # 生成器(generator)发生异常来通知退出\n",
    "\n",
    " +-- Exception  # 常规异常的基类\n",
    "      \n",
    "      +-- StopIteration  # 迭代器没有更多的值\n",
    "      +-- StopAsyncIteration  # 必须通过异步迭代器对象的__anext__()方法引发以停止迭代\n",
    "      +-- ArithmeticError  # 各种算术错误引发的内置异常的基类\n",
    "      |    +-- FloatingPointError  # 浮点计算错误\n",
    "      |    +-- OverflowError  # 数值运算结果太大无法表示\n",
    "      |    +-- ZeroDivisionError  # 除(或取模)零 (所有数据类型)\n",
    "      +-- AssertionError  # 当assert语句失败时引发\n",
    "      +-- AttributeError  # 属性引用或赋值失败\n",
    "      +-- BufferError  # 无法执行与缓冲区相关的操作时引发\n",
    "      +-- EOFError  # 当input()函数在没有读取任何数据的情况下达到文件结束条件(EOF)时引发\n",
    "      +-- ImportError  # 导入模块/对象失败\n",
    "      |    +-- ModuleNotFoundError  # 无法找到模块或在在sys.modules中找到None\n",
    "      +-- LookupError  # 映射或序列上使用的键或索引无效时引发的异常的基类\n",
    "      |    +-- IndexError  # 序列中没有此索引(index)\n",
    "      |    +-- KeyError  # 映射中没有这个键\n",
    "      +-- MemoryError  # 内存溢出错误(对于Python 解释器不是致命的)\n",
    "      +-- NameError  # 未声明/初始化对象 (没有属性)\n",
    "      |    +-- UnboundLocalError  # 访问未初始化的本地变量\n",
    "      +-- OSError  # 操作系统错误，EnvironmentError，IOError，WindowsError，socket.error，select.error和mmap.error已合并到OSError中，构造函数可能返回子类\n",
    "      |    +-- BlockingIOError  # 操作将阻塞对象(e.g. socket)设置为非阻塞操作\n",
    "      |    +-- ChildProcessError  # 在子进程上的操作失败\n",
    "      |    +-- ConnectionError  # 与连接相关的异常的基类\n",
    "      |    |    +-- BrokenPipeError  # 另一端关闭时尝试写入管道或试图在已关闭写入的套接字上写入\n",
    "      |    |    +-- ConnectionAbortedError  # 连接尝试被对等方中止\n",
    "      |    |    +-- ConnectionRefusedError  # 连接尝试被对等方拒绝\n",
    "      |    |    +-- ConnectionResetError    # 连接由对等方重置\n",
    "      |    +-- FileExistsError  # 创建已存在的文件或目录\n",
    "      |    +-- FileNotFoundError  # 请求不存在的文件或目录\n",
    "      |    +-- InterruptedError  # 系统调用被输入信号中断\n",
    "      |    +-- IsADirectoryError  # 在目录上请求文件操作(例如 os.remove())\n",
    "      |    +-- NotADirectoryError  # 在不是目录的事物上请求目录操作(例如 os.listdir())\n",
    "      |    +-- PermissionError  # 尝试在没有足够访问权限的情况下运行操作\n",
    "      |    +-- ProcessLookupError  # 给定进程不存在\n",
    "      |    +-- TimeoutError  # 系统函数在系统级别超时\n",
    "      +-- ReferenceError  # weakref.proxy()函数创建的弱引用试图访问已经垃圾回收了的对象\n",
    "      +-- RuntimeError  # 在检测到不属于任何其他类别的错误时触发\n",
    "      |    +-- NotImplementedError  # 在用户定义的基类中，抽象方法要求派生类重写该方法或者正在开发的类指示仍然需要添加实际实现\n",
    "      |    +-- RecursionError  # 解释器检测到超出最大递归深度\n",
    "      +-- SyntaxError  # Python 语法错误\n",
    "      |    +-- IndentationError  # 缩进错误\n",
    "      |         +-- TabError  # Tab和空格混用\n",
    "      +-- SystemError  # 解释器发现内部错误\n",
    "      +-- TypeError  # 操作或函数应用于不适当类型的对象\n",
    "      +-- ValueError  # 操作或函数接收到具有正确类型但值不合适的参数\n",
    "      |    +-- UnicodeError  # 发生与Unicode相关的编码或解码错误\n",
    "      |         +-- UnicodeDecodeError  # Unicode解码错误\n",
    "      |         +-- UnicodeEncodeError  # Unicode编码错误\n",
    "      |         +-- UnicodeTranslateError  # Unicode转码错误\n",
    "      +-- Warning  # 警告的基类\n",
    "           +-- DeprecationWarning  # 有关已弃用功能的警告的基类\n",
    "           +-- PendingDeprecationWarning  # 有关不推荐使用功能的警告的基类\n",
    "           +-- RuntimeWarning  # 有关可疑的运行时行为的警告的基类\n",
    "           +-- SyntaxWarning  # 关于可疑语法警告的基类\n",
    "           +-- UserWarning  # 用户代码生成警告的基类\n",
    "           +-- FutureWarning  # 有关已弃用功能的警告的基类\n",
    "           +-- ImportWarning  # 关于模块导入时可能出错的警告的基类\n",
    "           +-- UnicodeWarning  # 与Unicode相关的警告的基类\n",
    "           +-- BytesWarning  # 与bytes和bytearray相关的警告的基类\n",
    "           +-- ResourceWarning  # 与资源使用相关的警告的基类。被默认警告过滤器忽略。"
   ]
  },
  {
   "cell_type": "code",
   "execution_count": null,
   "metadata": {
    "uuid": "8e8cdcc0-9a2d-4900-ac5c-27c656095934"
   },
   "outputs": [],
   "source": []
  }
 ],
 "metadata": {
  "kernelspec": {
   "display_name": "Python 3",
   "language": "python",
   "name": "python3"
  },
  "language_info": {
   "codemirror_mode": {
    "name": "ipython",
    "version": 3
   },
   "file_extension": ".py",
   "mimetype": "text/x-python",
   "name": "python",
   "nbconvert_exporter": "python",
   "pygments_lexer": "ipython3",
   "version": "3.6.3"
  }
 },
 "nbformat": 4,
 "nbformat_minor": 4
}
